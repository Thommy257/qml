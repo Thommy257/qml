{
 "cells": [
  {
   "attachments": {},
   "cell_type": "markdown",
   "metadata": {},
   "source": [
    "\n",
    "\n",
    "# Gradient Estimation with Constant Scaling for Hybrid Quantum Machine Learning\n",
    "\n",
    ".. meta::\n",
    "   :property=\"og:description\": Implement a quantum hybrid model optimized using SPSA gradients\n",
    "   :property=\"og:image\": https://pennylane.ai/qml/_images/spsa_mntn.png <TODO: change>\n",
    "\n",
    ".. related::\n",
    "\n",
    "   spsa Optimization using SPSA\n",
    "   qnspsa Quantum natural SPSA optimizer\n",
    "\n",
    "*Author: Thomas Hoffmann — Posted: 11 January 2023. Last updated: 11 January 2023.*\n",
    "\n",
    "In this tutorial, we show how to use the gradient method from SPSA to optimize hybrid quantum-classical neural networks. Research results are published in  `Gradient Estimation with Constant Scaling for Hybrid Quantum Machine Learning <https://arxiv.org/abs/2211.13981>`__ from T. Hoffmann and D. Brown [#SPSB2022]_  using PennyLane."
   ]
  },
  {
   "attachments": {},
   "cell_type": "markdown",
   "metadata": {},
   "source": [
    "## References\n",
    "\n",
    ".. [#SPSB2022] Hoffmann, Thomas, Brown, Douglas (2022).\n",
    "   *Gradient Estimation with Constant Scaling for Hybrid Quantum Machine Learning*.\n",
    "   `arXiv preprint, 2211.13981 <https://arxiv.org/abs/2211.13981>`__."
   ]
  }
 ],
 "metadata": {
  "kernelspec": {
   "display_name": "venv",
   "language": "python",
   "name": "python3"
  },
  "language_info": {
   "name": "python",
   "version": "3.8.10 (default, Nov 14 2022, 12:59:47) \n[GCC 9.4.0]"
  },
  "orig_nbformat": 4,
  "vscode": {
   "interpreter": {
    "hash": "6ffbf19772edc86feb5c7d431bd51243274834e39d6a6dd53d2a3780bc16a0b4"
   }
  }
 },
 "nbformat": 4,
 "nbformat_minor": 2
}
