{
 "cells": [
  {
   "cell_type": "code",
   "execution_count": 1,
   "metadata": {},
   "outputs": [],
   "source": [
    "import torch\n",
    "from torch import nn\n",
    "\n",
    "import numpy as np\n",
    "import pennylane as qml\n",
    "from torchvision import datasets, transforms\n",
    "from tqdm import trange"
   ]
  },
  {
   "cell_type": "code",
   "execution_count": 97,
   "metadata": {},
   "outputs": [],
   "source": [
    "N_SAMPLES = 1000\n",
    "N_QUBITS = 4\n",
    "N_LAYERS = 1\n",
    "BATCH_SIZE = 50\n",
    "N_EPOCHS = 4\n",
    "LEARNING_RATE = 0.01\n",
    "DEVICE = torch.device('cuda') if torch.cuda.is_available() else torch.device('cpu')"
   ]
  },
  {
   "cell_type": "code",
   "execution_count": 98,
   "metadata": {},
   "outputs": [],
   "source": [
    "## Fetch and process MNIST data\n",
    "\n",
    "transform = transforms.Compose(\n",
    "    [\n",
    "        transforms.ToTensor(),\n",
    "        transforms.Resize((4, 4), antialias=None),\n",
    "        transforms.Normalize((0.1307,), (0.3081,)),\n",
    "    ]\n",
    ")\n",
    "mnist = datasets.MNIST(\"./data\", train=True, download=True, transform=transform)\n",
    "\n",
    "# Get only 6s and 3s\n",
    "idx = np.where((mnist.targets == 6) | (mnist.targets == 3))[0]\n",
    "mnist.data = mnist.data[idx]\n",
    "mnist.targets = mnist.targets[idx]\n",
    "\n",
    "# Limit to N_SAMPLES\n",
    "mnist.data = mnist.data[:N_SAMPLES]\n",
    "mnist.targets = mnist.targets[:N_SAMPLES]\n",
    "\n",
    "# Change labels to 0 and 1\n",
    "mnist.targets[mnist.targets == 6] = 0\n",
    "mnist.targets[mnist.targets == 3] = 1"
   ]
  },
  {
   "cell_type": "code",
   "execution_count": 99,
   "metadata": {},
   "outputs": [],
   "source": [
    "## Define circuit\n",
    "\n",
    "dev = qml.device('default.qubit', wires=N_QUBITS)\n",
    "\n",
    "def get_circuit(differentiator):\n",
    "\n",
    "    @qml.qnode(dev, diff_method=differentiator, interface='torch')\n",
    "    def circuit(inputs, weights):\n",
    "\n",
    "        # Encoding\n",
    "        for i in range(N_QUBITS):\n",
    "            qml.RY(inputs[i], wires=i)\n",
    "\n",
    "        # Classifier\n",
    "        for l in range(N_LAYERS):\n",
    "            layer_params = weights[N_QUBITS * l : N_QUBITS * (l + 1)]\n",
    "            for i in range(N_QUBITS):\n",
    "                qml.CRZ(layer_params[i], wires=[i, (i + 1) % N_QUBITS])\n",
    "            for i in range(N_QUBITS):\n",
    "                qml.Hadamard(wires=i)\n",
    "\n",
    "        return [qml.expval(qml.PauliZ(i)) for i in range(N_QUBITS)]\n",
    "    \n",
    "    return circuit"
   ]
  },
  {
   "cell_type": "code",
   "execution_count": 100,
   "metadata": {},
   "outputs": [],
   "source": [
    "## Define torch model\n",
    "\n",
    "\n",
    "class Model(nn.Module):\n",
    "    def __init__(self, differentiator, n_wires, n_layers) -> None:\n",
    "        super().__init__()\n",
    "        weight_shapes = {\"weights\": (n_layers * n_wires,)}\n",
    "\n",
    "        circuit = get_circuit(differentiator)\n",
    "        self.quanv = qml.qnn.TorchLayer(circuit, weight_shapes)\n",
    "\n",
    "        self.flatten = nn.Flatten(start_dim=1)\n",
    "        self.linear = nn.Linear(N_QUBITS * 2 * 2, 2)\n",
    "        self.softmax = nn.Softmax(dim=1)\n",
    "        self.final = nn.Sequential(self.flatten, self.linear, self.softmax)\n",
    "\n",
    "    def forward(self, x):\n",
    "\n",
    "        bsz = x.shape[0]\n",
    "        img_size = x.shape[1]\n",
    "        # x = x.view(bsz, img_size, img_size)\n",
    "\n",
    "        all_circuit_outs = []\n",
    "\n",
    "        for j in range(0, img_size, 2):\n",
    "            for k in range(0, img_size, 2):\n",
    "                image_portion = torch.cat((\n",
    "                    x[:, j, k],\n",
    "                    x[:, j, k + 1],\n",
    "                    x[:, j + 1, k],\n",
    "                    x[:, j + 1, k + 1],\n",
    "                ))\n",
    "\n",
    "                data = torch.transpose(image_portion.view(4, bsz), 0, 1)\n",
    "\n",
    "                circuit_outs = self.quanv(data)\n",
    "                all_circuit_outs.append(circuit_outs)\n",
    "\n",
    "        x = torch.cat(all_circuit_outs, dim=1).float()\n",
    "        x = self.final(x)\n",
    "        return x"
   ]
  },
  {
   "cell_type": "code",
   "execution_count": 102,
   "metadata": {},
   "outputs": [],
   "source": [
    "def get_losses(differentiator):\n",
    "\n",
    "    trainloader = torch.utils.data.DataLoader(\n",
    "        mnist, batch_size=BATCH_SIZE, shuffle=True\n",
    "    )\n",
    "\n",
    "    model = Model(differentiator, N_QUBITS, N_LAYERS)\n",
    "    model.to(DEVICE)\n",
    "    \n",
    "    opt = torch.optim.Adam(model.parameters(), lr=LEARNING_RATE)\n",
    "    loss = nn.CrossEntropyLoss()\n",
    "\n",
    "\n",
    "    # Initial evaluation\n",
    "    initial_loss = 0.0\n",
    "    initial_acc = 0.0\n",
    "\n",
    "    for batch_idx, (data, target) in enumerate(trainloader):\n",
    "        data = data.squeeze().to(DEVICE)\n",
    "        target = target.to(DEVICE)\n",
    "        output = model(data)\n",
    "        l = loss(output, target)\n",
    "        initial_loss += l.item()\n",
    "        initial_acc += output.argmax(dim=1).eq(target).sum().item()\n",
    "\n",
    "    initial_loss /= len(trainloader)\n",
    "    initial_acc /= len(trainloader)\n",
    "\n",
    "    losses = [initial_loss]\n",
    "    avg_accs = [initial_acc]\n",
    "\n",
    "    # Circuit evaluations\n",
    "    init_circuit_evals = dev.num_executions\n",
    "    circuit_evals = [0]\n",
    "\n",
    "    # Training loop\n",
    "    for epoch in trange(N_EPOCHS, desc=\"Epochs\"):\n",
    "        running_acc = 0\n",
    "        for batch_idx, (data, target) in enumerate(trainloader):\n",
    "            data = data.squeeze().to(DEVICE)\n",
    "            target = target.to(DEVICE)\n",
    "            output = model(data)\n",
    "\n",
    "            l = loss(output, target)\n",
    "            losses.append(l.item())\n",
    "\n",
    "            opt.zero_grad()\n",
    "            l.backward()\n",
    "            opt.step()\n",
    "            \n",
    "            accuracy = output.argmax(dim=1).eq(target).sum().item()\n",
    "            running_acc += accuracy * len(target)\n",
    "            circuit_evals.append(dev.num_executions - init_circuit_evals)\n",
    "\n",
    "        avg_accs.append(running_acc / len(trainloader.dataset))\n",
    "\n",
    "        # print(f\"Epoch {epoch+1}/{N_EPOCHS}, Loss: {losses[-1]}, Accuracy: {avg_accs[-1]}\")\n",
    "\n",
    "    return losses, avg_accs, circuit_evals\n"
   ]
  },
  {
   "cell_type": "code",
   "execution_count": 103,
   "metadata": {},
   "outputs": [
    {
     "name": "stderr",
     "output_type": "stream",
     "text": [
      "Epochs: 100%|██████████| 4/4 [00:55<00:00, 13.80s/it]\n",
      "Epochs: 100%|██████████| 4/4 [03:42<00:00, 55.71s/it]\n"
     ]
    }
   ],
   "source": [
    "losses_spsb, accs_spsb, evals_spsb = get_losses('spsa')\n",
    "losses_ps, accs_ps, evals_ps = get_losses('parameter-shift')\n",
    "\n",
    "losses_spsb, accs_spsb, evals_spsb = np.array(losses_spsb), np.array(accs_spsb), np.array(evals_spsb)\n",
    "losses_ps, accs_ps, evals_ps = np.array(losses_ps), np.array(accs_ps), np.array(evals_ps)"
   ]
  },
  {
   "cell_type": "code",
   "execution_count": 104,
   "metadata": {},
   "outputs": [],
   "source": [
    "def rolling_avg(data, window_size):\n",
    "    convolution = np.convolve(data, np.ones((window_size,)) / window_size, mode=\"valid\")\n",
    "    return np.append(data[: window_size - 1], convolution)"
   ]
  },
  {
   "cell_type": "code",
   "execution_count": 110,
   "metadata": {},
   "outputs": [
    {
     "data": {
      "image/png": "[encoded data removed]",
      "text/plain": [
       "<Figure size 640x480 with 1 Axes>"
      ]
     },
     "metadata": {},
     "output_type": "display_data"
    }
   ],
   "source": [
    "from matplotlib import pyplot as plt\n",
    "\n",
    "# Take rolling average of losses\n",
    "differentiators = [\"spsb\", \"ps\"]\n",
    "average_windows = {\"spsb\": 10, \"ps\": 3}\n",
    "data = {\n",
    "    \"spsb\": {\"losses\": losses_spsb, \"accs\": accs_spsb, \"evals\": evals_spsb},\n",
    "    \"ps\": {\"losses\": losses_ps, \"accs\": accs_ps, \"evals\": evals_ps},\n",
    "}\n",
    "\n",
    "\n",
    "for d in differentiators:\n",
    "    losses_plot = rolling_avg(data[d][\"losses\"], average_windows[d])\n",
    "\n",
    "    plt.plot(data[d][\"evals\"], losses_plot, label=d)\n",
    "\n",
    "\n",
    "plt.xlabel(\"Circuit Evaluations\")\n",
    "plt.ylabel(\"Loss\")\n",
    "plt.legend();\n"
   ]
  },
  {
   "cell_type": "code",
   "execution_count": null,
   "metadata": {},
   "outputs": [],
   "source": []
  }
 ],
 "metadata": {
  "kernelspec": {
   "display_name": "qml_venv",
   "language": "python",
   "name": "python3"
  },
  "language_info": {
   "codemirror_mode": {
    "name": "ipython",
    "version": 3
   },
   "file_extension": ".py",
   "mimetype": "text/x-python",
   "name": "python",
   "nbconvert_exporter": "python",
   "pygments_lexer": "ipython3",
   "version": "3.9.16"
  },
  "orig_nbformat": 4,
  "vscode": {
   "interpreter": {
    "hash": "bfb814092297ae503bf04ac1c22a3a089311e64225c47b31603488bcd2985cff"
   }
  }
 },
 "nbformat": 4,
 "nbformat_minor": 2
}
